{
 "cells": [
  {
   "cell_type": "code",
   "execution_count": 1,
   "id": "11cd49a8",
   "metadata": {},
   "outputs": [],
   "source": [
    "import warnings\n",
    "warnings.filterwarnings('ignore')"
   ]
  },
  {
   "cell_type": "code",
   "execution_count": 2,
   "id": "26db9448",
   "metadata": {},
   "outputs": [],
   "source": [
    "from os import path\n",
    "\n",
    "import numpy as np\n",
    "import matplotlib.pyplot as plt\n",
    "import matplotlib.lines as ln\n",
    "import pandas as pd\n",
    "import seaborn as sns\n",
    "import statsmodels.api as sm\n",
    "from datetime import datetime, date\n",
    "from dateutil.relativedelta import relativedelta\n",
    "\n"
   ]
  },
  {
   "cell_type": "code",
   "execution_count": 3,
   "id": "45a7360b",
   "metadata": {},
   "outputs": [],
   "source": [
    "encounters = pd.read_csv(\"data/encounters.csv\") "
   ]
  },
  {
   "cell_type": "code",
   "execution_count": 4,
   "id": "74ba698a",
   "metadata": {},
   "outputs": [],
   "source": [
    "#Create encounter_date for date of encounter in datetime format to a date from dateime\n",
    "encounters['Encounter_Date'] = pd.to_datetime(encounters.START, format='%Y-%m-%d')\n",
    "encounters['Encounter_Date'] = encounters['Encounter_Date'].dt.strftime('%Y-%m-%d')\n",
    "encounters['Encounter_Date'] = pd.to_datetime(encounters['Encounter_Date'], format='%Y-%m-%d')"
   ]
  },
  {
   "cell_type": "code",
   "execution_count": 5,
   "id": "8ff9ed36",
   "metadata": {},
   "outputs": [],
   "source": [
    "# added county of residence for each patient\n",
    "patients = pd.read_csv(\"data/patients_county.csv\",encoding='latin-1') "
   ]
  },
  {
   "cell_type": "code",
   "execution_count": 6,
   "id": "aebba6b2",
   "metadata": {},
   "outputs": [],
   "source": [
    "conditions = pd.read_csv(\"data/conditions.csv\")"
   ]
  },
  {
   "cell_type": "code",
   "execution_count": 7,
   "id": "7b73ad07",
   "metadata": {},
   "outputs": [],
   "source": [
    "allergies = pd.read_csv(\"data/allergies.csv\")"
   ]
  },
  {
   "cell_type": "code",
   "execution_count": 8,
   "id": "0df72f2e",
   "metadata": {},
   "outputs": [],
   "source": [
    "medications = pd.read_csv(\"data/medications.csv\")"
   ]
  },
  {
   "cell_type": "code",
   "execution_count": 9,
   "id": "a2c02e97",
   "metadata": {},
   "outputs": [],
   "source": [
    "observations = pd.read_csv(\"data/observations.csv\")"
   ]
  },
  {
   "cell_type": "code",
   "execution_count": 10,
   "id": "6f4d3e56",
   "metadata": {},
   "outputs": [],
   "source": [
    "# Convert Patients BIRTHDATE to date format and correct 2 digit year to proper century\n",
    "patients['DOB'] = pd.to_datetime(patients['BIRTHDATE'], format = (\"%m/%d/%y\"))\n",
    "patients['DOB'] = np.where(patients['DOB'].dt.year > 2010, patients['DOB']\n",
    "                           - pd.offsets.DateOffset(years=100), patients['DOB'])"
   ]
  },
  {
   "cell_type": "code",
   "execution_count": 11,
   "id": "0d42009d",
   "metadata": {},
   "outputs": [],
   "source": [
    "# dropped some columns not needed\n",
    "patients.drop(['DRIVERS','PASSPORT','MAIDEN','SSN'], inplace=True, axis=1)"
   ]
  },
  {
   "cell_type": "code",
   "execution_count": 12,
   "id": "8fbf01f1",
   "metadata": {},
   "outputs": [],
   "source": [
    "# rename columns\n",
    "patients = patients.rename(columns={'Id': 'Patient_ID'})"
   ]
  },
  {
   "cell_type": "code",
   "execution_count": 13,
   "id": "72291c5f",
   "metadata": {},
   "outputs": [],
   "source": [
    "# rename columns\n",
    "conditions = conditions.rename(columns={'START': 'Cond_Start', 'STOP': 'Cond_Stop',\n",
    "                                        'PATIENT': 'Patient_ID', 'CODE': 'Cond_Code', \n",
    "                                        'DESCRIPTION': 'Cond_Description', 'ENCOUNTER': 'Encounter_ID'}) "
   ]
  },
  {
   "cell_type": "code",
   "execution_count": 14,
   "id": "c48135d3",
   "metadata": {},
   "outputs": [],
   "source": [
    "# rename columns\n",
    "encounters = encounters.rename(columns={'START': 'Visit_Start', 'STOP': 'Visit_Stop', \n",
    "                                        'PATIENT': 'Patient_ID','ENCOUNTERCLASS': 'Encounter_Class',\n",
    "                                       'Id': 'Encounter_ID', 'CODE': 'Encounter_Code',\n",
    "                                       'DESCRIPTION': 'Encounter_Description',\n",
    "                                       'REASONCODE': 'Encounter_Reason_Code','COST': 'Encounter_Cost', \n",
    "                                        'REASONDESCRIPTION': 'Encounter_Reason_Desc'})"
   ]
  },
  {
   "cell_type": "code",
   "execution_count": 15,
   "id": "7f29d384",
   "metadata": {},
   "outputs": [],
   "source": [
    "# rename columns\n",
    "medications = medications.rename(columns={'START': 'Med_Start', 'STOP': 'Med_Stop', \n",
    "                                          'PATIENT': 'Patient_ID', 'ENCOUNTER': 'Encounter_ID', \n",
    "                                          'CODE': 'Med_Code', 'DESCRIPTION': 'Med_Description', \n",
    "                                         'COST': 'Med_Cost', 'TOTALCOST': 'Med_Total_Cost', \n",
    "                                         'REASONCODE': 'Med_Reason_Code', 'REASONDESCRIPTION': 'Med_Reason_Desc',\n",
    "                                         'DISPENSES': 'Med_Dispenses'})"
   ]
  },
  {
   "cell_type": "code",
   "execution_count": 16,
   "id": "251b3688",
   "metadata": {},
   "outputs": [],
   "source": [
    "# rename columns\n",
    "observations = observations.rename(columns={'DATE': 'Obs_Date', \n",
    "                                          'PATIENT': 'Patient_ID', 'ENCOUNTER': 'Encounter_ID', \n",
    "                                          'CODE': 'Obs_Code', 'DESCRIPTION': 'Obs_Description', \n",
    "                                         'VALUE': 'Obs_Value', 'UNITS': 'Obs_Units', \n",
    "                                         'TYPE': 'Obs_Type'})"
   ]
  },
  {
   "cell_type": "code",
   "execution_count": 17,
   "id": "a14989d4",
   "metadata": {},
   "outputs": [],
   "source": [
    "# rename columns\n",
    "allergies = allergies.rename(columns={'START': 'Allergy_Start', 'STOP': 'Allergy_Stop', \n",
    "                                          'PATIENT': 'Patient_ID', 'ENCOUNTER': 'Encounter_ID', \n",
    "                                          'CODE': 'Allergy_Code', 'DESCRIPTION': 'Allergy_Description'})"
   ]
  },
  {
   "cell_type": "code",
   "execution_count": 18,
   "id": "df9e623e",
   "metadata": {},
   "outputs": [],
   "source": [
    "# Asthma related conditions we're interested in\n",
    "# Other conditions are known co-morbidities for with Asthma\n",
    "asthma_conditions = ['Asthma', 'Perennial allergic rhinitis',\n",
    "                     'Perennial allergic rhinitis with seasonal variation',\n",
    "                     'Seasonal allergic rhinitis',\n",
    "                     'Chronic obstructive bronchitis (disorder)', 'Childhood asthma']"
   ]
  },
  {
   "cell_type": "code",
   "execution_count": 19,
   "id": "0b6f6788",
   "metadata": {},
   "outputs": [
    {
     "data": {
      "text/plain": [
       "Asthma                                                 19146\n",
       "Childhood asthma                                       15510\n",
       "Perennial allergic rhinitis                             3782\n",
       "Perennial allergic rhinitis with seasonal variation     3729\n",
       "Seasonal allergic rhinitis                              1897\n",
       "Chronic obstructive bronchitis (disorder)                209\n",
       "Name: Encounter_Reason_Desc, dtype: int64"
      ]
     },
     "execution_count": 19,
     "metadata": {},
     "output_type": "execute_result"
    }
   ],
   "source": [
    "# Pulls in the dataframes of our conditions of interest into a new dataframe to look at\n",
    "asthma_conditions_df = encounters[encounters['Encounter_Reason_Desc'].isin(asthma_conditions)]# Count of conditions in our dataframe\n",
    "asthma_conditions_df['Encounter_Reason_Desc'].value_counts()"
   ]
  },
  {
   "cell_type": "code",
   "execution_count": 20,
   "id": "b94a42d5",
   "metadata": {},
   "outputs": [
    {
     "data": {
      "text/plain": [
       "Asthma                                                 19146\n",
       "Childhood asthma                                       15510\n",
       "Perennial allergic rhinitis                             3782\n",
       "Perennial allergic rhinitis with seasonal variation     3729\n",
       "Seasonal allergic rhinitis                              1897\n",
       "Chronic obstructive bronchitis (disorder)                209\n",
       "Name: Encounter_Reason_Desc, dtype: int64"
      ]
     },
     "execution_count": 20,
     "metadata": {},
     "output_type": "execute_result"
    }
   ],
   "source": [
    "# Count of conditions in our dataframe\n",
    "asthma_conditions_df['Encounter_Reason_Desc'].value_counts()"
   ]
  },
  {
   "cell_type": "code",
   "execution_count": 21,
   "id": "a0d000e2",
   "metadata": {},
   "outputs": [],
   "source": [
    "# These are some of the important co-moribidites associated with Asthma Admissions, creating flags in conditions dataframe\n",
    "asthma_conditions_df['Asthma_Diag'] = np.where(asthma_conditions_df['Encounter_Reason_Desc'] == 'Asthma',1,0)\n",
    "asthma_conditions_df['Childhood_Asthma_Diag'] = np.where(asthma_conditions_df['Encounter_Reason_Desc'] ==\n",
    "                                                'Childhood asthma',1,0)\n",
    "asthma_conditions_df['Rhinitis_Diag'] = np.where(asthma_conditions_df['Encounter_Reason_Desc'] == \n",
    "                                                 'Perennial allergic rhinitis',1,0)\n",
    "asthma_conditions_df['Seasonal_Rhinitis_Diag'] = np.where(asthma_conditions_df['Encounter_Reason_Desc'] == \n",
    "                                                'Seasonal allergic rhinitis',1,0)\n",
    "asthma_conditions_df['Chronic_Bronchitis_diag'] = np.where(asthma_conditions_df['Encounter_Reason_Desc'] == \n",
    "                                                'Chronic obstructive bronchitis (disorder)',1,0)"
   ]
  },
  {
   "cell_type": "code",
   "execution_count": 22,
   "id": "d5966b63",
   "metadata": {},
   "outputs": [
    {
     "data": {
      "text/plain": [
       "Asthma follow-up                            24572\n",
       "Encounter for symptom                       14815\n",
       "Emergency hospital admission for asthma      4677\n",
       "Admission to thoracic surgery department      209\n",
       "Name: Encounter_Description, dtype: int64"
      ]
     },
     "execution_count": 22,
     "metadata": {},
     "output_type": "execute_result"
    }
   ],
   "source": [
    "# Count of \n",
    "asthma_conditions_df['Encounter_Description'].value_counts()"
   ]
  },
  {
   "cell_type": "code",
   "execution_count": 23,
   "id": "187cd34b",
   "metadata": {},
   "outputs": [],
   "source": [
    "# Creating a set of variables that we can use for evaluating its impact on Asthma admissions\n",
    "patient_encounter_cond = asthma_conditions_df.groupby(['Patient_ID']).agg(\n",
    "    {'Asthma_Diag': 'max', 'Childhood_Asthma_Diag': 'max', 'Rhinitis_Diag': 'max',\n",
    "     'Seasonal_Rhinitis_Diag': 'max', 'Chronic_Bronchitis_diag': 'max'}).reset_index()"
   ]
  },
  {
   "cell_type": "code",
   "execution_count": 24,
   "id": "27dca4b8",
   "metadata": {},
   "outputs": [],
   "source": [
    "# Creating data where we can summraize the encounter types into these 3 new fields\n",
    "asthma_conditions_df['Follow_Up_Asthma'] = np.where(asthma_conditions_df['Encounter_Description'] ==\n",
    "                                                    'Asthma follow-up',1,0)\n",
    "asthma_conditions_df['Symptom_Encounter'] = np.where(asthma_conditions_df['Encounter_Description'] ==\n",
    "                                                    'Encounter for symptom',1,0)\n",
    "asthma_conditions_df['Asthma_Hospital_Admission'] = np.where(asthma_conditions_df['Encounter_Description'] ==\n",
    "                                                    'Emergency hospital admission for asthma',1,0)\n",
    "asthma_conditions_df['Thoracic_Surgery_Admission'] = np.where(asthma_conditions_df['Encounter_Description'] ==\n",
    "                                                    'Admission to thoracic surgery department',1,0)"
   ]
  },
  {
   "cell_type": "code",
   "execution_count": 25,
   "id": "a6c1f75d",
   "metadata": {},
   "outputs": [],
   "source": [
    "# Creating a dataframe for Asthma Utilization we will look at later\n",
    "asthma_utilizations = asthma_conditions_df.groupby('Patient_ID').agg(\n",
    "    {'Follow_Up_Asthma': 'sum', 'Symptom_Encounter':'sum', 'Asthma_Hospital_Admission': 'sum', \n",
    "     'Thoracic_Surgery_Admission': 'sum'}).reset_index()"
   ]
  },
  {
   "cell_type": "code",
   "execution_count": 26,
   "id": "2c0670f3",
   "metadata": {},
   "outputs": [],
   "source": [
    "# Asthma Related Data pulled from the Encounters Table joined with utilization data for modeling\n",
    "asthma_encounters = patient_encounter_cond.merge(asthma_utilizations, on = 'Patient_ID')"
   ]
  },
  {
   "cell_type": "code",
   "execution_count": 27,
   "id": "6b025464",
   "metadata": {},
   "outputs": [],
   "source": [
    "# Creating flags based on race for further analysis\n",
    "patients['Race_White'] = np.where(patients['RACE'] == 'white',1,0)\n",
    "patients['Race_Black'] = np.where(patients['RACE'] == 'black',1,0)\n",
    "patients['Race_Hispanic'] = np.where(patients['RACE'] == 'hispanic',1,0)\n",
    "patients['Race_Asian'] = np.where(patients['RACE'] == 'asian',1,0)\n",
    "patients['Race_Native'] = np.where(patients['RACE'] == 'native',1,0)\n",
    "patients['Race_Other'] = np.where(patients['RACE'] == 'other',1,0)"
   ]
  },
  {
   "cell_type": "code",
   "execution_count": 28,
   "id": "7c1fb2e7",
   "metadata": {},
   "outputs": [],
   "source": [
    "# Creating new flags based on sex for further analysis\n",
    "patients['Sex_Male'] = np.where(patients['GENDER'] == 'M',1,0)"
   ]
  },
  {
   "cell_type": "code",
   "execution_count": 29,
   "id": "6b7f2810",
   "metadata": {},
   "outputs": [],
   "source": [
    "# Historical Air Quality for North Carolina Counties \n",
    "# https://www.airnow.gov/state/?name=north-carolina\n",
    "Air_Quality = pd.read_excel('data/Historical_Air_Quality.xlsx')\n",
    "\n",
    "# Changing data so we can match it\n",
    "Air_Quality['County'] = Air_Quality['County'].astype(str).str.strip().str.upper().str.replace(\n",
    "    'COUNTY', '').str.strip()"
   ]
  },
  {
   "cell_type": "code",
   "execution_count": 30,
   "id": "b4fbc3b4",
   "metadata": {},
   "outputs": [],
   "source": [
    "# Changing County so we can map it better\n",
    "patients['COUNTY'] = patients['COUNTY'].astype(str).str.strip().str.upper().str.replace('COUNTY', '').str.strip()"
   ]
  },
  {
   "cell_type": "code",
   "execution_count": 31,
   "id": "eb126b58",
   "metadata": {},
   "outputs": [],
   "source": [
    "patients = patients.merge(Air_Quality, how = 'left', left_on = 'COUNTY', right_on = 'County')"
   ]
  },
  {
   "cell_type": "code",
   "execution_count": 32,
   "id": "78db6bbe",
   "metadata": {},
   "outputs": [],
   "source": [
    "# We are filling in historical air quality with the average in the event it's not there\n",
    "patients['Historical_PM25_AirQuality'].fillna(patients['Historical_PM25_AirQuality'].mean(), inplace = True )\n",
    "\n",
    "# Replacing blank Air Quality Status with Moderate, which is the average\n",
    "patients['Air_Quality_Status'] = patients['Air_Quality_Status'].astype(str).str.strip().str.replace(\n",
    "    'nan', 'Moderate')\n",
    "\n",
    "# Created Air Quality Variables\n",
    "patients['Moderate_Air'] = np.where(patients['Air_Quality_Status'] == 'Moderate', 1,0)\n",
    "patients['Good_Air'] = np.where(patients['Air_Quality_Status'] == 'Good', 1,0)\n",
    "patients['Unstable_Air'] = np.where(patients['Air_Quality_Status'] == 'Unstable', 1,0)"
   ]
  },
  {
   "cell_type": "code",
   "execution_count": 33,
   "id": "3e235753",
   "metadata": {},
   "outputs": [],
   "source": [
    "#data obtained from https://linc.osbm.nc.gov/pages/home/\n",
    "nc_poverty = pd.read_csv(\"data/nc_poverty_income.csv\", thousands=',')"
   ]
  },
  {
   "cell_type": "code",
   "execution_count": 34,
   "id": "c264cb72",
   "metadata": {},
   "outputs": [],
   "source": [
    "# Changing data type for merging\n",
    "nc_poverty['COUNTY'] = nc_poverty['COUNTY'].astype(str).str.strip().str.upper().str.replace(\n",
    "    'COUNTY','').str.strip()\n",
    "\n",
    "#add variable for poverty rate - convert poverty % to rate\n",
    "nc_poverty['Poverty_rate'] = nc_poverty['POVERTY_PCT']/100\n",
    "\n",
    "#add variable for log base 10 of median household income\n",
    "nc_poverty['Log_median_income'] = np.log10(nc_poverty.MEDIAN_HH_INCOME)\n",
    "\n"
   ]
  },
  {
   "cell_type": "code",
   "execution_count": 35,
   "id": "4ccc2f03",
   "metadata": {},
   "outputs": [
    {
     "data": {
      "text/plain": [
       "count    100.000000\n",
       "mean       0.158010\n",
       "std        0.047518\n",
       "min        0.073000\n",
       "25%        0.125000\n",
       "50%        0.152000\n",
       "75%        0.185250\n",
       "max        0.315000\n",
       "Name: Poverty_rate, dtype: float64"
      ]
     },
     "execution_count": 35,
     "metadata": {},
     "output_type": "execute_result"
    }
   ],
   "source": [
    "# Used this to create our cutoffs for poverty rates \n",
    "nc_poverty['Poverty_rate'].describe()"
   ]
  },
  {
   "cell_type": "code",
   "execution_count": 36,
   "id": "227bc2bf",
   "metadata": {},
   "outputs": [],
   "source": [
    "# Creating Variables based on poverty rates, using the 50% threshold for likely to be in poverty\n",
    "# CDC Classified 40% and higher as extreme poverty areas, 20-40% to moderate poverty, <20% normal poverty\n",
    "# Used top 75% for higher poverty in NC, lower 25% for low poverty in NC, moderate for everyone else\n",
    "nc_poverty['High_Poverty'] = np.where(nc_poverty['Poverty_rate'] >= .19,1,0)\n",
    "nc_poverty['Moderate_Poverty'] = np.where((nc_poverty['Poverty_rate'] >= .120) & \n",
    "                                          (nc_poverty['Poverty_rate'] < .19) ,1,0)\n",
    "nc_poverty['Lower_Poverty'] = np.where((nc_poverty['Poverty_rate'] < .120) ,1,0)"
   ]
  },
  {
   "cell_type": "code",
   "execution_count": 37,
   "id": "ea954927",
   "metadata": {},
   "outputs": [],
   "source": [
    "patients = patients.merge(nc_poverty, how = 'left', on = 'COUNTY')"
   ]
  },
  {
   "cell_type": "code",
   "execution_count": 38,
   "id": "87780fe8",
   "metadata": {},
   "outputs": [],
   "source": [
    "# Creating a patients dataframe for modeling purposes\n",
    "patient_df = patients[['Patient_ID', 'DOB', 'Race_White',\n",
    "       'Race_Black', 'Race_Hispanic', 'Race_Asian', 'Race_Native',\n",
    "       'Race_Other', 'Sex_Male','High_Poverty', 'Moderate_Poverty',\n",
    "       'Lower_Poverty', 'Moderate_Air', 'Good_Air', 'Unstable_Air']]"
   ]
  },
  {
   "cell_type": "code",
   "execution_count": 39,
   "id": "1d751358",
   "metadata": {},
   "outputs": [],
   "source": [
    "# our base population for the study using variables we will be modeling\n",
    "asthma_df = pd.merge(asthma_encounters, patient_df, how='left', on='Patient_ID')"
   ]
  },
  {
   "cell_type": "code",
   "execution_count": 40,
   "id": "8a513c1b",
   "metadata": {},
   "outputs": [],
   "source": [
    "# Create a datafrmae from medications table, pulling all drugs from study based on conditions of interest\n",
    "med_study = medications[medications['Med_Reason_Desc'].isin(asthma_conditions)]\n",
    "\n",
    "# Checks to see if patient is one one of the drugs of interest\n",
    "med_study['120_ACTUAT_Fluticasone_.044_Inhaler'] = np.where(\n",
    "    med_study['Med_Description'] =='120 ACTUAT Fluticasone propionate 0.044 MG/ACTUAT Metered Dose Inhaler',1,0)\n",
    "med_study['200_ACTUAT_Albuterol_.09_Inhaler'] = np.where(\n",
    "    med_study['Med_Description'] == '200 ACTUAT Albuterol 0.09 MG/ACTUAT Metered Dose Inhaler',1,0)\n",
    "med_study['60_ACTUAT_Fluticasone_.25_Inhaler'] = np.where(\n",
    "    med_study['Med_Description'] == '60 ACTUAT Fluticasone propionate 0.25 MG/ACTUAT / salmeterol 0.05 MG/ACTUAT Dry Powder Inhaler',1,0)\n",
    "\n",
    "\n"
   ]
  },
  {
   "cell_type": "code",
   "execution_count": 41,
   "id": "a1137706",
   "metadata": {},
   "outputs": [],
   "source": [
    "# Creates a dataframe based on the drugs they're on for further study\n",
    "medication_asthma = med_study.groupby(['Patient_ID']).agg(\n",
    "    {'120_ACTUAT_Fluticasone_.044_Inhaler': 'max', '200_ACTUAT_Albuterol_.09_Inhaler': 'max',\n",
    "     '60_ACTUAT_Fluticasone_.25_Inhaler': 'max'}).reset_index()"
   ]
  },
  {
   "cell_type": "code",
   "execution_count": 42,
   "id": "f520d6dc",
   "metadata": {},
   "outputs": [],
   "source": [
    "# Adding Medications into the Asthma Dataframe\n",
    "asthma_df = pd.merge(asthma_df, medication_asthma, how='left', on='Patient_ID') "
   ]
  },
  {
   "cell_type": "code",
   "execution_count": 43,
   "id": "eaf027ce",
   "metadata": {},
   "outputs": [],
   "source": [
    "# Drops duplicates in conditions list \n",
    "condt = conditions.drop_duplicates(['Patient_ID', 'Cond_Description'])"
   ]
  },
  {
   "cell_type": "code",
   "execution_count": 44,
   "id": "488e6387",
   "metadata": {},
   "outputs": [],
   "source": [
    "# add column environmental allergy in which 1 if present and 0 if absent\n",
    "# Environment: food, animals, trees, grass, latex, bees, dust mites\n",
    "allergies['Environment_allergies'] = np.where((allergies['Allergy_Description']=='Allergy to mould') |\n",
    "                                              (allergies['Allergy_Description']=='Dander (animal) allergy') |\n",
    "                                              (allergies['Allergy_Description']=='Allergy to tree pollen') |\n",
    "                                              (allergies['Allergy_Description']=='Allergy to grass pollen') |\n",
    "                                               (allergies['Allergy_Description']=='Latex allergy') |\n",
    "                                              (allergies['Allergy_Description']=='Allergy to bee venom') |\n",
    "                                              (allergies['Allergy_Description']=='House dust mite allergy'),1,0)"
   ]
  },
  {
   "cell_type": "code",
   "execution_count": 45,
   "id": "21ae0de0",
   "metadata": {},
   "outputs": [],
   "source": [
    "# add column food allergy in which 1 if present and 0 if absent\n",
    "# Food: Eggs, dairy, soy, shellfish, fish, nutg, peanuts           \n",
    "allergies['Food_Allergies'] = np.where((allergies['Allergy_Description']=='Allergy to wheat') |\n",
    "                                              (allergies['Allergy_Description']=='Allergy to eggs') |\n",
    "                                              (allergies['Allergy_Description']=='Allergy to dairy product') |\n",
    "                                              (allergies['Allergy_Description']=='Allergy to soya') |\n",
    "                                              (allergies['Allergy_Description']=='Shellfish allergy') |\n",
    "                                              (allergies['Allergy_Description']=='Allergy to fish') |\n",
    "                                              (allergies['Allergy_Description']=='Allergy to nut') |\n",
    "                                              (allergies['Allergy_Description']=='Allergy to peanuts'),1,0)"
   ]
  },
  {
   "cell_type": "code",
   "execution_count": 46,
   "id": "d9eb1068",
   "metadata": {},
   "outputs": [],
   "source": [
    "# Creates a list of all allergies a patient has on a new column All_Allergies\n",
    "allergies_list = allergies.groupby(['Patient_ID'])['Allergy_Description'].apply(\n",
    "    list).reset_index(name = 'All_Allergies')"
   ]
  },
  {
   "cell_type": "code",
   "execution_count": 47,
   "id": "205f402e",
   "metadata": {},
   "outputs": [],
   "source": [
    "# Creates flags for Food and Environmental Allergies\n",
    "allergy1 = allergies.groupby(['Patient_ID']).agg(\n",
    "    {'Food_Allergies': 'max', 'Environment_allergies': 'max'}).reset_index()"
   ]
  },
  {
   "cell_type": "code",
   "execution_count": 48,
   "id": "3dfe7023",
   "metadata": {},
   "outputs": [],
   "source": [
    "# Allergy Dataframe to join on for furhter analysis\n",
    "allergy_df = allergy1.merge(allergies_list, on = 'Patient_ID')"
   ]
  },
  {
   "cell_type": "code",
   "execution_count": 49,
   "id": "bf0d35ea",
   "metadata": {},
   "outputs": [],
   "source": [
    "# our base population for the study using variables we will be modeling\n",
    "asthma_df = pd.merge(asthma_encounters, patient_df, how='left', on='Patient_ID')\n",
    "# Adding Medications into the Asthma Dataframe\n",
    "asthma_df = pd.merge(asthma_df, medication_asthma, how='left', on='Patient_ID') \n",
    "# Adding Conditions List to Asthma dataframe\n",
    "#asthma_df = pd.merge(asthma_df, Condition_List, how='left', on=['Patient_ID'])\n",
    "# left join asthma_encounters with allergies\n",
    "asthma_df = pd.merge(asthma_df, allergy_df, how='left', on=['Patient_ID'])"
   ]
  },
  {
   "cell_type": "code",
   "execution_count": 50,
   "id": "24fa9fa0",
   "metadata": {},
   "outputs": [
    {
     "data": {
      "text/plain": [
       "0        1.0\n",
       "1        0.0\n",
       "2        1.0\n",
       "3        0.0\n",
       "4        1.0\n",
       "        ... \n",
       "12228    0.0\n",
       "12229    1.0\n",
       "12230    0.0\n",
       "12231    1.0\n",
       "12232    1.0\n",
       "Name: Food_Allergies, Length: 12233, dtype: float64"
      ]
     },
     "execution_count": 50,
     "metadata": {},
     "output_type": "execute_result"
    }
   ],
   "source": [
    "asthma_df['Food_Allergies'].fillna(0)"
   ]
  },
  {
   "cell_type": "code",
   "execution_count": 51,
   "id": "65f8652e",
   "metadata": {},
   "outputs": [],
   "source": [
    "asthma_df['Fluticasone_Drug'] = np.where((asthma_df['120_ACTUAT_Fluticasone_.044_Inhaler'] == 1)| \n",
    "                                          (asthma_df['60_ACTUAT_Fluticasone_.25_Inhaler']) ==1,1,0 )"
   ]
  },
  {
   "cell_type": "code",
   "execution_count": 52,
   "id": "2d836909",
   "metadata": {},
   "outputs": [],
   "source": [
    "asthma_df['Albuterol_Drug'] = np.where((asthma_df['200_ACTUAT_Albuterol_.09_Inhaler'] == 1),1,0 )"
   ]
  },
  {
   "cell_type": "code",
   "execution_count": 53,
   "id": "1c787777",
   "metadata": {},
   "outputs": [],
   "source": [
    "asthma_df['High_Follow-Up_Asthma_Visits'] = np.where(asthma_df['Follow_Up_Asthma']>5,1,0)"
   ]
  },
  {
   "cell_type": "code",
   "execution_count": 54,
   "id": "14490b34",
   "metadata": {},
   "outputs": [],
   "source": [
    "asthma_new = asthma_df.fillna(0)"
   ]
  },
  {
   "cell_type": "code",
   "execution_count": 55,
   "id": "75b7ac60",
   "metadata": {},
   "outputs": [],
   "source": [
    "asthma_new['Asthma_ED_Admission_Flag'] = np.where(asthma_new['Asthma_Hospital_Admission'] > 0, 1,0)"
   ]
  },
  {
   "cell_type": "code",
   "execution_count": 56,
   "id": "0051e725",
   "metadata": {},
   "outputs": [],
   "source": [
    "#create a dataframe for modeling\n",
    "asthma_dat = asthma_new[['Asthma_ED_Admission_Flag','Rhinitis_Diag','Seasonal_Rhinitis_Diag',\n",
    "                 'Chronic_Bronchitis_diag','Race_Black','Race_Hispanic','Race_Native','Sex_Male',\n",
    "                  'High_Poverty','Moderate_Air','Unstable_Air','Food_Allergies','Environment_allergies',\n",
    "                'Fluticasone_Drug','Albuterol_Drug','High_Follow-Up_Asthma_Visits']]"
   ]
  },
  {
   "cell_type": "code",
   "execution_count": 57,
   "id": "d5f013ba",
   "metadata": {},
   "outputs": [],
   "source": [
    "asthma_dat.to_csv(\"data/asthma_final.csv\", index=False)"
   ]
  },
  {
   "cell_type": "markdown",
   "id": "b4dc074a",
   "metadata": {},
   "source": [
    "**Data dictionary for asthma_final_data <br>**\n",
    "<br>**Response variable =**<br>\n",
    "Asthma_ED_Admission_Flag<br>\n",
    "\n",
    "**Predictors =**\n",
    "<br>Rhinitis_Diag = 1 if present and 0 if not present\n",
    "<br>Seasonal_Rhinitis_Diag = 1 if present and 0 if not present\n",
    "<br>Chronic_Bronchitis_diag = 1 if present and 0 if not present\n",
    "<br>Race_Black = 1 if Race recorded as 'black' and 0 if not \n",
    "<br>Race_Hispanic = 1 if Race recorded as 'hispanic' and 0 if not\n",
    "<br>Race_Native = 1 if Race recorded as 'native' and 0 if not\n",
    "<br>Sex_Male = 1 if gender recorded as male ('M') and 0 if not\n",
    "<br>High_Poverty = 1 if poverty rate above 0.15 (highest 75%) and 0 if 0.15 or lower\n",
    "<br>Moderate_Air = 1 if Historical_PM25_AirQuality = moderate and 0 if not\n",
    "<br>Unstable_Air = 1 if Historical_PM25_AirQuality = unstable and 0 if not\n",
    "<br>Food_Allergies = 1 if present and 0 if not present\n",
    "<br>Environment_allergies = 1 if present and 0 if not present\n",
    "<br>Fluticasone_Drug = 1 if fluticasone prescribed and 0 if not \n",
    "<br>Albuterol_Drug = 1 if albuterol prescribed and 0 if not \n",
    "<br>High_Follow-Up_Asthma_Visits = 1 if >= 5 follow-up visits for asthma, otherwise 0"
   ]
  }
 ],
 "metadata": {
  "kernelspec": {
   "display_name": "Python 3",
   "language": "python",
   "name": "python3"
  },
  "language_info": {
   "codemirror_mode": {
    "name": "ipython",
    "version": 3
   },
   "file_extension": ".py",
   "mimetype": "text/x-python",
   "name": "python",
   "nbconvert_exporter": "python",
   "pygments_lexer": "ipython3",
   "version": "3.9.1"
  }
 },
 "nbformat": 4,
 "nbformat_minor": 5
}

{
 "cells": [
  {
   "cell_type": "code",
   "execution_count": 1,
   "metadata": {},
   "outputs": [],
   "source": [
    "import warnings\n",
    "warnings.filterwarnings('ignore')"
   ]
  },
  {
   "cell_type": "markdown",
   "metadata": {},
   "source": [
    "## Import Python modules"
   ]
  },
  {
   "cell_type": "code",
   "execution_count": 2,
   "metadata": {},
   "outputs": [],
   "source": [
    "import itertools\n",
    "from os import path\n",
    "\n",
    "import matplotlib.patches as mpatches\n",
    "import matplotlib.pyplot as plt\n",
    "from matplotlib.colors import ListedColormap\n",
    "import numpy as np\n",
    "import pandas as pd\n",
    "import seaborn as sns\n",
    "\n",
    "from sklearn.linear_model import LogisticRegression\n",
    "from sklearn.metrics import (\n",
    "    accuracy_score,\n",
    "    confusion_matrix,\n",
    "    precision_score,\n",
    "    recall_score\n",
    ")\n",
    "from sklearn.model_selection import (\n",
    "    GridSearchCV,\n",
    "    KFold,\n",
    "    train_test_split\n",
    ")\n",
    "from sklearn.naive_bayes import GaussianNB\n",
    "from sklearn.neighbors import KNeighborsClassifier\n",
    "from sklearn.pipeline import make_pipeline\n",
    "from sklearn.preprocessing import StandardScaler\n",
    "from sklearn.svm import SVC"
   ]
  },
  {
   "cell_type": "markdown",
   "metadata": {},
   "source": [
    "Utility to plot confusion matrix."
   ]
  },
  {
   "cell_type": "code",
   "execution_count": 3,
   "metadata": {},
   "outputs": [],
   "source": [
    "## Read dataimport itertools  # (compatibility)\n",
    "from sklearn.metrics import confusion_matrix  # (compatibility)\n",
    "\n",
    "def plot_confusion_matrix(cm, classes,\n",
    "                          title='Confusion matrix',\n",
    "                          cmap=plt.cm.Blues):\n",
    "    \"\"\"\n",
    "    - Robust to suspected bug in matplotlib==3.1.1.\n",
    "    - Backward-compatible (signature as original implementation).\n",
    "    \"\"\"\n",
    "    \n",
    "    class ConfusionMatrixDisplay:\n",
    "\n",
    "        def __init__(self, confusion_matrix, display_labels):\n",
    "            self.confusion_matrix = confusion_matrix\n",
    "            self.display_labels = display_labels\n",
    "\n",
    "        def plot(self, include_values=True, cmap='viridis',\n",
    "                 xticks_rotation='horizontal', values_format=None, ax=None):\n",
    "            import matplotlib.pyplot as plt\n",
    "\n",
    "            if ax is None:\n",
    "                fig, ax = plt.subplots()\n",
    "            else:\n",
    "                fig = ax.figure\n",
    "\n",
    "            cm = self.confusion_matrix\n",
    "            n_classes = cm.shape[0]\n",
    "            self.im_ = ax.imshow(cm, interpolation='nearest', cmap=cmap)\n",
    "            self.text_ = None\n",
    "\n",
    "            cmap_min, cmap_max = self.im_.cmap(0), self.im_.cmap(256)\n",
    "\n",
    "            if include_values:\n",
    "                self.text_ = np.empty_like(cm, dtype=object)\n",
    "                if values_format is None:\n",
    "                    values_format = '.2g'\n",
    "\n",
    "                # print text with appropriate color depending on background\n",
    "                thresh = (cm.max() + cm.min()) / 2.0\n",
    "                for i, j in itertools.product(range(n_classes), range(n_classes)):\n",
    "                    color = cmap_max if cm[i, j] < thresh else cmap_min\n",
    "                    self.text_[i, j] = ax.text(j, i,\n",
    "                                               format(cm[i, j], values_format),\n",
    "                                               ha=\"center\", va=\"center\",\n",
    "                                               color=color)\n",
    "\n",
    "            fig.colorbar(self.im_, ax=ax)\n",
    "            ax.set(xticks=np.arange(n_classes),\n",
    "                   yticks=np.arange(n_classes),\n",
    "                   xticklabels=self.display_labels,\n",
    "                   yticklabels=self.display_labels,\n",
    "                   ylabel=\"True label\",\n",
    "                   xlabel=\"Predicted label\")\n",
    "\n",
    "            ax.set_ylim((n_classes - 0.5, -0.5))\n",
    "            plt.setp(ax.get_xticklabels(), rotation=xticks_rotation)\n",
    "\n",
    "            self.figure_ = fig\n",
    "            self.ax_ = ax\n",
    "            return self\n",
    "\n",
    "    disp = ConfusionMatrixDisplay(\n",
    "        confusion_matrix=cm,\n",
    "        display_labels=classes\n",
    "    )\n",
    "    disp.plot(\n",
    "        include_values=True,\n",
    "        cmap=cmap, ax=None,\n",
    "        xticks_rotation=45,\n",
    "        values_format=\"d\"\n",
    "    )    "
   ]
  },
  {
   "cell_type": "markdown",
   "metadata": {},
   "source": [
    "## Read data"
   ]
  },
  {
   "cell_type": "code",
   "execution_count": 4,
   "metadata": {},
   "outputs": [],
   "source": [
    "asthma_dat = pd.read_csv(\"data/asthma_final.csv\")"
   ]
  },
  {
   "cell_type": "code",
   "execution_count": 5,
   "metadata": {},
   "outputs": [
    {
     "data": {
      "text/plain": [
       "(12233, 16)"
      ]
     },
     "execution_count": 5,
     "metadata": {},
     "output_type": "execute_result"
    }
   ],
   "source": [
    "asthma_dat.shape"
   ]
  },
  {
   "cell_type": "code",
   "execution_count": 6,
   "metadata": {},
   "outputs": [
    {
     "data": {
      "text/html": [
       "<div>\n",
       "<style scoped>\n",
       "    .dataframe tbody tr th:only-of-type {\n",
       "        vertical-align: middle;\n",
       "    }\n",
       "\n",
       "    .dataframe tbody tr th {\n",
       "        vertical-align: top;\n",
       "    }\n",
       "\n",
       "    .dataframe thead th {\n",
       "        text-align: right;\n",
       "    }\n",
       "</style>\n",
       "<table border=\"1\" class=\"dataframe\">\n",
       "  <thead>\n",
       "    <tr style=\"text-align: right;\">\n",
       "      <th></th>\n",
       "      <th>Asthma_ED_Admission_Flag</th>\n",
       "      <th>Rhinitis_Diag</th>\n",
       "      <th>Seasonal_Rhinitis_Diag</th>\n",
       "      <th>Chronic_Bronchitis_diag</th>\n",
       "      <th>Race_Black</th>\n",
       "      <th>Race_Hispanic</th>\n",
       "      <th>Race_Native</th>\n",
       "      <th>Sex_Male</th>\n",
       "      <th>High_Poverty</th>\n",
       "      <th>Moderate_Air</th>\n",
       "      <th>Unstable_Air</th>\n",
       "      <th>Food_Allergies</th>\n",
       "      <th>Environment_allergies</th>\n",
       "      <th>Fluticasone_Drug</th>\n",
       "      <th>Albuterol_Drug</th>\n",
       "      <th>High_Follow-Up_Asthma_Visits</th>\n",
       "    </tr>\n",
       "  </thead>\n",
       "  <tbody>\n",
       "    <tr>\n",
       "      <th>0</th>\n",
       "      <td>0</td>\n",
       "      <td>0</td>\n",
       "      <td>0</td>\n",
       "      <td>0</td>\n",
       "      <td>0</td>\n",
       "      <td>0</td>\n",
       "      <td>0</td>\n",
       "      <td>0</td>\n",
       "      <td>0.0</td>\n",
       "      <td>1</td>\n",
       "      <td>0</td>\n",
       "      <td>1.0</td>\n",
       "      <td>1.0</td>\n",
       "      <td>1</td>\n",
       "      <td>1</td>\n",
       "      <td>0</td>\n",
       "    </tr>\n",
       "    <tr>\n",
       "      <th>1</th>\n",
       "      <td>0</td>\n",
       "      <td>0</td>\n",
       "      <td>0</td>\n",
       "      <td>0</td>\n",
       "      <td>0</td>\n",
       "      <td>0</td>\n",
       "      <td>0</td>\n",
       "      <td>1</td>\n",
       "      <td>0.0</td>\n",
       "      <td>1</td>\n",
       "      <td>0</td>\n",
       "      <td>0.0</td>\n",
       "      <td>0.0</td>\n",
       "      <td>1</td>\n",
       "      <td>1</td>\n",
       "      <td>0</td>\n",
       "    </tr>\n",
       "    <tr>\n",
       "      <th>2</th>\n",
       "      <td>0</td>\n",
       "      <td>1</td>\n",
       "      <td>0</td>\n",
       "      <td>0</td>\n",
       "      <td>0</td>\n",
       "      <td>0</td>\n",
       "      <td>0</td>\n",
       "      <td>0</td>\n",
       "      <td>0.0</td>\n",
       "      <td>1</td>\n",
       "      <td>0</td>\n",
       "      <td>1.0</td>\n",
       "      <td>1.0</td>\n",
       "      <td>0</td>\n",
       "      <td>0</td>\n",
       "      <td>0</td>\n",
       "    </tr>\n",
       "    <tr>\n",
       "      <th>3</th>\n",
       "      <td>0</td>\n",
       "      <td>1</td>\n",
       "      <td>0</td>\n",
       "      <td>0</td>\n",
       "      <td>0</td>\n",
       "      <td>0</td>\n",
       "      <td>0</td>\n",
       "      <td>1</td>\n",
       "      <td>0.0</td>\n",
       "      <td>1</td>\n",
       "      <td>0</td>\n",
       "      <td>0.0</td>\n",
       "      <td>1.0</td>\n",
       "      <td>0</td>\n",
       "      <td>0</td>\n",
       "      <td>0</td>\n",
       "    </tr>\n",
       "    <tr>\n",
       "      <th>4</th>\n",
       "      <td>0</td>\n",
       "      <td>1</td>\n",
       "      <td>0</td>\n",
       "      <td>0</td>\n",
       "      <td>0</td>\n",
       "      <td>0</td>\n",
       "      <td>0</td>\n",
       "      <td>1</td>\n",
       "      <td>1.0</td>\n",
       "      <td>1</td>\n",
       "      <td>0</td>\n",
       "      <td>1.0</td>\n",
       "      <td>1.0</td>\n",
       "      <td>0</td>\n",
       "      <td>0</td>\n",
       "      <td>0</td>\n",
       "    </tr>\n",
       "  </tbody>\n",
       "</table>\n",
       "</div>"
      ],
      "text/plain": [
       "   Asthma_ED_Admission_Flag  Rhinitis_Diag  Seasonal_Rhinitis_Diag  \\\n",
       "0                         0              0                       0   \n",
       "1                         0              0                       0   \n",
       "2                         0              1                       0   \n",
       "3                         0              1                       0   \n",
       "4                         0              1                       0   \n",
       "\n",
       "   Chronic_Bronchitis_diag  Race_Black  Race_Hispanic  Race_Native  Sex_Male  \\\n",
       "0                        0           0              0            0         0   \n",
       "1                        0           0              0            0         1   \n",
       "2                        0           0              0            0         0   \n",
       "3                        0           0              0            0         1   \n",
       "4                        0           0              0            0         1   \n",
       "\n",
       "   High_Poverty  Moderate_Air  Unstable_Air  Food_Allergies  \\\n",
       "0           0.0             1             0             1.0   \n",
       "1           0.0             1             0             0.0   \n",
       "2           0.0             1             0             1.0   \n",
       "3           0.0             1             0             0.0   \n",
       "4           1.0             1             0             1.0   \n",
       "\n",
       "   Environment_allergies  Fluticasone_Drug  Albuterol_Drug  \\\n",
       "0                    1.0                 1               1   \n",
       "1                    0.0                 1               1   \n",
       "2                    1.0                 0               0   \n",
       "3                    1.0                 0               0   \n",
       "4                    1.0                 0               0   \n",
       "\n",
       "   High_Follow-Up_Asthma_Visits  \n",
       "0                             0  \n",
       "1                             0  \n",
       "2                             0  \n",
       "3                             0  \n",
       "4                             0  "
      ]
     },
     "execution_count": 6,
     "metadata": {},
     "output_type": "execute_result"
    }
   ],
   "source": [
    "asthma_dat.head()"
   ]
  },
  {
   "cell_type": "markdown",
   "metadata": {},
   "source": [
    "## Create dataframes for model"
   ]
  },
  {
   "cell_type": "markdown",
   "metadata": {},
   "source": [
    "Split data into X and y."
   ]
  },
  {
   "cell_type": "code",
   "execution_count": 8,
   "metadata": {},
   "outputs": [],
   "source": [
    "X = asthma_dat.drop(\"Asthma_ED_Admission_Flag\", axis=1)\n",
    "y = asthma_dat[\"Asthma_ED_Admission_Flag\"]"
   ]
  },
  {
   "cell_type": "code",
   "execution_count": 9,
   "metadata": {},
   "outputs": [
    {
     "data": {
      "text/plain": [
       "0    9150\n",
       "1    3083\n",
       "Name: Asthma_ED_Admission_Flag, dtype: int64"
      ]
     },
     "execution_count": 9,
     "metadata": {},
     "output_type": "execute_result"
    }
   ],
   "source": [
    "y.value_counts()"
   ]
  },
  {
   "cell_type": "markdown",
   "metadata": {},
   "source": [
    "Split data into training and test set."
   ]
  },
  {
   "cell_type": "code",
   "execution_count": 10,
   "metadata": {},
   "outputs": [],
   "source": [
    "X_train, X_test, y_train, y_test = train_test_split(\n",
    "    X, y, random_state=1,\n",
    "    test_size=0.3\n",
    ")"
   ]
  },
  {
   "cell_type": "markdown",
   "metadata": {},
   "source": [
    "Make a scaled version of the predictors for later use."
   ]
  },
  {
   "cell_type": "code",
   "execution_count": 11,
   "metadata": {},
   "outputs": [],
   "source": [
    "scaler = StandardScaler()\n",
    "scaler_fit = scaler.fit(X_train)\n",
    "X_train_scaled = scaler_fit.transform(X_train)\n",
    "X_test_scaled = scaler_fit.transform(X_test)"
   ]
  },
  {
   "cell_type": "markdown",
   "metadata": {},
   "source": [
    "Cross-validation object."
   ]
  },
  {
   "cell_type": "code",
   "execution_count": 12,
   "metadata": {},
   "outputs": [],
   "source": [
    "# cross-validation object\n",
    "k_fold = KFold(random_state=1, shuffle=True)"
   ]
  },
  {
   "cell_type": "markdown",
   "metadata": {},
   "source": [
    "## Regularized logistic regression"
   ]
  },
  {
   "cell_type": "code",
   "execution_count": 13,
   "metadata": {},
   "outputs": [],
   "source": [
    "# logistic pipeline\n",
    "logistic_pipeline = make_pipeline(\n",
    "    StandardScaler(),\n",
    "    LogisticRegression(random_state=0)\n",
    ")\n",
    "\n",
    "# grid for parameter search\n",
    "param_grid = np.logspace(-3, 0, 100)\n",
    "\n",
    "# grid search object\n",
    "grid_search = GridSearchCV(\n",
    "    logistic_pipeline,\n",
    "    dict(logisticregression__C=param_grid),\n",
    "    cv=k_fold\n",
    ")\n",
    "\n",
    "# fit model via cross-validation\n",
    "grid_search_fit = grid_search.fit(X_train, y_train)\n",
    "\n",
    "# best parameter\n",
    "best_logistic_C = grid_search_fit.best_params_.get(\"logisticregression__C\")"
   ]
  },
  {
   "cell_type": "code",
   "execution_count": 14,
   "metadata": {},
   "outputs": [
    {
     "data": {
      "text/plain": [
       "0.024770763559917114"
      ]
     },
     "execution_count": 14,
     "metadata": {},
     "output_type": "execute_result"
    }
   ],
   "source": [
    "best_logistic_C"
   ]
  },
  {
   "cell_type": "markdown",
   "metadata": {},
   "source": [
    "Fit best model to scaled training data."
   ]
  },
  {
   "cell_type": "code",
   "execution_count": 15,
   "metadata": {},
   "outputs": [],
   "source": [
    "best_logistic = LogisticRegression(C=best_logistic_C, random_state=0)\n",
    "best_logistic_fit = best_logistic.fit(X_train_scaled, y_train)"
   ]
  },
  {
   "cell_type": "markdown",
   "metadata": {},
   "source": [
    "Check performance on test data."
   ]
  },
  {
   "cell_type": "code",
   "execution_count": 16,
   "metadata": {},
   "outputs": [
    {
     "data": {
      "image/png": "[encoded data removed]",
      "text/plain": [
       "<Figure size 432x288 with 2 Axes>"
      ]
     },
     "metadata": {
      "needs_background": "light"
     },
     "output_type": "display_data"
    }
   ],
   "source": [
    "plot_confusion_matrix(\n",
    "    confusion_matrix(y_test, best_logistic_fit.predict(X_test_scaled)),\n",
    "    [\"No ED\", \"ED\"]\n",
    ")\n",
    "\n",
    "plt.tight_layout()\n"
   ]
  },
  {
   "cell_type": "code",
   "execution_count": 17,
   "metadata": {},
   "outputs": [
    {
     "data": {
      "text/plain": [
       "0.8403269754768392"
      ]
     },
     "execution_count": 17,
     "metadata": {},
     "output_type": "execute_result"
    }
   ],
   "source": [
    "accuracy_score(y_test, best_logistic_fit.predict(X_test_scaled))"
   ]
  },
  {
   "cell_type": "code",
   "execution_count": 18,
   "metadata": {},
   "outputs": [
    {
     "data": {
      "text/plain": [
       "0.7697368421052632"
      ]
     },
     "execution_count": 18,
     "metadata": {},
     "output_type": "execute_result"
    }
   ],
   "source": [
    "precision_score(y_test, best_logistic_fit.predict(X_test_scaled))"
   ]
  },
  {
   "cell_type": "code",
   "execution_count": 19,
   "metadata": {},
   "outputs": [
    {
     "data": {
      "text/plain": [
       "0.5120350109409191"
      ]
     },
     "execution_count": 19,
     "metadata": {},
     "output_type": "execute_result"
    }
   ],
   "source": [
    "recall_score(y_test, best_logistic_fit.predict(X_test_scaled))"
   ]
  },
  {
   "cell_type": "code",
   "execution_count": null,
   "metadata": {},
   "outputs": [],
   "source": []
  }
 ],
 "metadata": {
  "kernelspec": {
   "display_name": "Python 3",
   "language": "python",
   "name": "python3"
  },
  "language_info": {
   "codemirror_mode": {
    "name": "ipython",
    "version": 3
   },
   "file_extension": ".py",
   "mimetype": "text/x-python",
   "name": "python",
   "nbconvert_exporter": "python",
   "pygments_lexer": "ipython3",
   "version": "3.9.1"
  }
 },
 "nbformat": 4,
 "nbformat_minor": 2
}
